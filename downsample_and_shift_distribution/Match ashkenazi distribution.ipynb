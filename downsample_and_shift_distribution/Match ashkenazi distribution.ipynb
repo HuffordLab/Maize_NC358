{
 "cells": [
  {
   "cell_type": "markdown",
   "metadata": {},
   "source": [
    "# First read in the read lengths for the Ashkenazi data"
   ]
  },
  {
   "cell_type": "code",
   "execution_count": 1,
   "metadata": {},
   "outputs": [],
   "source": [
    "ashkenazi_rc = [int(l.strip()) for l in open('ashkenazi_rc.csv')]"
   ]
  },
  {
   "cell_type": "code",
   "execution_count": 2,
   "metadata": {},
   "outputs": [
    {
     "data": {
      "text/plain": [
       "219010844467"
      ]
     },
     "execution_count": 2,
     "metadata": {},
     "output_type": "execute_result"
    }
   ],
   "source": [
    "sum(ashkenazi_rc)"
   ]
  },
  {
   "cell_type": "code",
   "execution_count": 3,
   "metadata": {},
   "outputs": [],
   "source": [
    "nc358_size = 2272400000"
   ]
  },
  {
   "cell_type": "markdown",
   "metadata": {},
   "source": [
    "# Calculate the size of this data in terms of the Maize genome"
   ]
  },
  {
   "cell_type": "code",
   "execution_count": 4,
   "metadata": {},
   "outputs": [
    {
     "name": "stdout",
     "output_type": "stream",
     "text": [
      "96.3786500911\n"
     ]
    }
   ],
   "source": [
    "coverage = sum(ashkenazi_rc) / float(nc358_size)\n",
    "print coverage"
   ]
  },
  {
   "cell_type": "code",
   "execution_count": 5,
   "metadata": {},
   "outputs": [],
   "source": [
    "target_coverage = 50.0"
   ]
  },
  {
   "cell_type": "code",
   "execution_count": 6,
   "metadata": {},
   "outputs": [
    {
     "name": "stdout",
     "output_type": "stream",
     "text": [
      "0.518787096029\n"
     ]
    }
   ],
   "source": [
    "downsample_ratio = target_coverage/ coverage\n",
    "print downsample_ratio"
   ]
  },
  {
   "cell_type": "markdown",
   "metadata": {},
   "source": [
    "# Now downsample the reads to have the target read length distribution"
   ]
  },
  {
   "cell_type": "code",
   "execution_count": 7,
   "metadata": {},
   "outputs": [],
   "source": [
    "import numpy as np"
   ]
  },
  {
   "cell_type": "code",
   "execution_count": 8,
   "metadata": {},
   "outputs": [],
   "source": [
    "maize_target_distribution = [r for r in ashkenazi_rc if np.random.uniform() < downsample_ratio]"
   ]
  },
  {
   "cell_type": "code",
   "execution_count": 9,
   "metadata": {},
   "outputs": [
    {
     "data": {
      "text/plain": [
       "50.00269271563105"
      ]
     },
     "execution_count": 9,
     "metadata": {},
     "output_type": "execute_result"
    }
   ],
   "source": [
    "sum(maize_target_distribution) / float(nc358_size)"
   ]
  },
  {
   "cell_type": "markdown",
   "metadata": {},
   "source": [
    "# Load the maize distribution"
   ]
  },
  {
   "cell_type": "code",
   "execution_count": 10,
   "metadata": {},
   "outputs": [],
   "source": [
    "maize_starting_distribution = [int(l.strip()) for l in open('maize_raw_rc.csv')]"
   ]
  },
  {
   "cell_type": "code",
   "execution_count": 11,
   "metadata": {},
   "outputs": [
    {
     "name": "stdout",
     "output_type": "stream",
     "text": [
      "75.2881381438\n"
     ]
    }
   ],
   "source": [
    "maize_starting_coverage = sum(maize_starting_distribution) / float(nc358_size)\n",
    "print maize_starting_coverage"
   ]
  },
  {
   "cell_type": "code",
   "execution_count": 12,
   "metadata": {},
   "outputs": [
    {
     "name": "stdout",
     "output_type": "stream",
     "text": [
      "22342330\n",
      "13809742\n"
     ]
    }
   ],
   "source": [
    "print len(maize_starting_distribution)\n",
    "print len(maize_target_distribution)"
   ]
  },
  {
   "cell_type": "markdown",
   "metadata": {},
   "source": [
    "### Note that our target distribution has more reads than all of our starting data.  This means that we won't quite get the coverage we hoped for."
   ]
  },
  {
   "cell_type": "code",
   "execution_count": 13,
   "metadata": {},
   "outputs": [
    {
     "name": "stdout",
     "output_type": "stream",
     "text": [
      "50.0026927156\n"
     ]
    }
   ],
   "source": [
    "maize_target_distribution_modified = maize_target_distribution[:len(maize_starting_distribution)]\n",
    "print sum(maize_target_distribution_modified) / float(nc358_size)"
   ]
  },
  {
   "cell_type": "markdown",
   "metadata": {},
   "source": [
    "### That's pretty close though!"
   ]
  },
  {
   "cell_type": "markdown",
   "metadata": {},
   "source": [
    "# Let's make some helper functions"
   ]
  },
  {
   "cell_type": "code",
   "execution_count": 14,
   "metadata": {},
   "outputs": [],
   "source": [
    "from matplotlib import pyplot as plt"
   ]
  },
  {
   "cell_type": "code",
   "execution_count": 15,
   "metadata": {},
   "outputs": [],
   "source": [
    "%matplotlib inline"
   ]
  },
  {
   "cell_type": "code",
   "execution_count": 16,
   "metadata": {},
   "outputs": [],
   "source": [
    "def calc_pdf(data):\n",
    "    max_val = max(data)\n",
    "    total = sum(data)\n",
    "    prob = np.zeros(max_val+1)\n",
    "    \n",
    "    for d in data:\n",
    "        prob[d] += 1\n",
    "    \n",
    "    prob = [p/float(total) for p in prob]\n",
    "    \n",
    "    return prob"
   ]
  },
  {
   "cell_type": "code",
   "execution_count": 17,
   "metadata": {},
   "outputs": [],
   "source": [
    "def calc_cumsum(data):\n",
    "    total = sum(data)\n",
    "    data = sorted(data)\n",
    "    data = np.cumsum(data)\n",
    "    data = [d/float(total) for d in data]\n",
    "    \n",
    "    return data"
   ]
  },
  {
   "cell_type": "code",
   "execution_count": 18,
   "metadata": {},
   "outputs": [],
   "source": [
    "def calc_n50(data):\n",
    "    data = sorted(data)\n",
    "    total = sum(data)\n",
    "    norm_data = np.cumsum(data) / float(total)\n",
    "    idx = np.searchsorted(norm_data, 0.5)\n",
    "    \n",
    "    return data[idx]"
   ]
  },
  {
   "cell_type": "markdown",
   "metadata": {},
   "source": [
    "# And do a sanity check to ensure that the distributions are the same"
   ]
  },
  {
   "cell_type": "code",
   "execution_count": 19,
   "metadata": {},
   "outputs": [
    {
     "data": {
      "text/plain": [
       "[<matplotlib.lines.Line2D at 0x7fcaca9da310>]"
      ]
     },
     "execution_count": 19,
     "metadata": {},
     "output_type": "execute_result"
    },
    {
     "data": {
      "image/png": "[encoded data removed]",
      "text/plain": [
       "<matplotlib.figure.Figure at 0x7fcacae4af10>"
      ]
     },
     "metadata": {},
     "output_type": "display_data"
    }
   ],
   "source": [
    "plt.plot(calc_pdf(maize_starting_distribution), label='Maize starting')\n",
    "plt.plot(calc_pdf(maize_target_distribution), label='Maize target')\n",
    "plt.plot(calc_pdf(ashkenazi_rc), label='Ashkenazi')"
   ]
  },
  {
   "cell_type": "code",
   "execution_count": 20,
   "metadata": {},
   "outputs": [
    {
     "name": "stdout",
     "output_type": "stream",
     "text": [
      "22342330\n",
      "13809742\n"
     ]
    }
   ],
   "source": [
    "print len(maize_starting_distribution)\n",
    "print len(maize_target_distribution)"
   ]
  },
  {
   "cell_type": "markdown",
   "metadata": {},
   "source": [
    "## Interesting, it looks like we have fewer reads in all of the maize data than our downsampled target distribution\n",
    "Let's see what the coverage is if we were to use the same number of reads"
   ]
  },
  {
   "cell_type": "code",
   "execution_count": 21,
   "metadata": {},
   "outputs": [
    {
     "name": "stdout",
     "output_type": "stream",
     "text": [
      "50.0026927156\n"
     ]
    }
   ],
   "source": [
    "print sum(maize_target_distribution[:len(maize_starting_distribution)]) / float(nc358_size)"
   ]
  },
  {
   "cell_type": "markdown",
   "metadata": {},
   "source": [
    "## O.K., I think this probably will work\n",
    "We'll plan on actually trimming the reads that we have rather than just down-sample."
   ]
  },
  {
   "cell_type": "code",
   "execution_count": 22,
   "metadata": {},
   "outputs": [],
   "source": [
    "maize_starting_sorted_with_index = sorted(zip(maize_starting_distribution, xrange(len(maize_starting_distribution))), key=lambda x: x[0], reverse=True)\n",
    "maize_target_distribution_sorted = sorted(maize_target_distribution[:len(maize_starting_distribution)], reverse=True)"
   ]
  },
  {
   "cell_type": "code",
   "execution_count": 23,
   "metadata": {},
   "outputs": [],
   "source": [
    "from itertools import izip"
   ]
  },
  {
   "cell_type": "code",
   "execution_count": 24,
   "metadata": {},
   "outputs": [],
   "source": [
    "maize_new_distribution = []\n",
    "for maize, target in izip(maize_starting_sorted_with_index, maize_target_distribution_sorted):\n",
    "    if maize[0] > target:\n",
    "        maize_new_distribution.append((target, maize[1]))\n",
    "    else:\n",
    "        maize_new_distribution.append(maize)"
   ]
  },
  {
   "cell_type": "code",
   "execution_count": 25,
   "metadata": {},
   "outputs": [
    {
     "name": "stdout",
     "output_type": "stream",
     "text": [
      "50.0025082899\n"
     ]
    }
   ],
   "source": [
    "new_maize_dist = [r[0] for r in maize_new_distribution]\n",
    "print sum(new_maize_dist) / float(nc358_size)"
   ]
  },
  {
   "cell_type": "code",
   "execution_count": 26,
   "metadata": {},
   "outputs": [
    {
     "data": {
      "text/plain": [
       "[<matplotlib.lines.Line2D at 0x7fcacabcbc10>]"
      ]
     },
     "execution_count": 26,
     "metadata": {},
     "output_type": "execute_result"
    },
    {
     "data": {
      "image/png": "[encoded data removed]",
      "text/plain": [
       "<matplotlib.figure.Figure at 0x7fcae44d2410>"
      ]
     },
     "metadata": {},
     "output_type": "display_data"
    }
   ],
   "source": [
    "plt.plot(calc_pdf(new_maize_dist))\n",
    "plt.plot(calc_pdf(maize_target_distribution_sorted))\n",
    "#plt.plot(calc_pdf(maize_starting_distribution))"
   ]
  },
  {
   "cell_type": "code",
   "execution_count": 28,
   "metadata": {},
   "outputs": [
    {
     "name": "stdout",
     "output_type": "stream",
     "text": [
      "11334\n",
      "11094\n",
      "21166\n"
     ]
    }
   ],
   "source": [
    "print calc_n50(new_maize_dist)\n",
    "print calc_n50(maize_target_distribution_sorted)\n",
    "print calc_n50(maize_starting_distribution)"
   ]
  },
  {
   "cell_type": "markdown",
   "metadata": {},
   "source": [
    "## We matched the distributions pretty well...\n",
    "Now let's sort the dist back in the proper order"
   ]
  },
  {
   "cell_type": "code",
   "execution_count": 31,
   "metadata": {},
   "outputs": [
    {
     "data": {
      "text/plain": [
       "[<matplotlib.lines.Line2D at 0x7fc9a12ee3d0>]"
      ]
     },
     "execution_count": 31,
     "metadata": {},
     "output_type": "execute_result"
    },
    {
     "data": {
      "image/png": "[encoded data removed]",
      "text/plain": [
       "<matplotlib.figure.Figure at 0x7fcac813c210>"
      ]
     },
     "metadata": {},
     "output_type": "display_data"
    }
   ],
   "source": [
    "plt.plot(calc_cumsum(new_maize_dist))\n",
    "plt.plot(calc_cumsum(maize_target_distribution_sorted))\n",
    "plt.plot(calc_cumsum(maize_starting_distribution))"
   ]
  },
  {
   "cell_type": "code",
   "execution_count": 34,
   "metadata": {},
   "outputs": [],
   "source": [
    "maize_new_distribution_proper_order = {x[1]: x[0] for x in maize_new_distribution}\n",
    "#maize_new_distribution_proper_order = sorted(maize_new_distribution, key=lambda x: x[1])"
   ]
  },
  {
   "cell_type": "code",
   "execution_count": 35,
   "metadata": {},
   "outputs": [],
   "source": [
    "with open('desired_read_lengths.csv', 'w') as fh:\n",
    "    for i in xrange(len(maize_starting_distribution)):\n",
    "        fh.write('{0}\\n'.format(maize_new_distribution_proper_order.get(i, 0)))"
   ]
  },
  {
   "cell_type": "code",
   "execution_count": null,
   "metadata": {},
   "outputs": [],
   "source": []
  }
 ],
 "metadata": {
  "kernelspec": {
   "display_name": "Python 2",
   "language": "python",
   "name": "python2"
  },
  "language_info": {
   "codemirror_mode": {
    "name": "ipython",
    "version": 2
   },
   "file_extension": ".py",
   "mimetype": "text/x-python",
   "name": "python",
   "nbconvert_exporter": "python",
   "pygments_lexer": "ipython2",
   "version": "2.7.6"
  }
 },
 "nbformat": 4,
 "nbformat_minor": 2
}
