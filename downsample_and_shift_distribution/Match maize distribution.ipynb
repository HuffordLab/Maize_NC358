{
 "cells": [
  {
   "cell_type": "markdown",
   "metadata": {},
   "source": [
    "# Maize read length distribution shift"
   ]
  },
  {
   "cell_type": "markdown",
   "metadata": {},
   "source": [
    "# First read in the read lengths for the Maize b73 data"
   ]
  },
  {
   "cell_type": "code",
   "execution_count": 1,
   "metadata": {},
   "outputs": [],
   "source": [
    "b73_rc = [int(l.strip()) for l in open('b73.csv')]"
   ]
  },
  {
   "cell_type": "code",
   "execution_count": 2,
   "metadata": {},
   "outputs": [
    {
     "data": {
      "text/plain": [
       "156402786403"
      ]
     },
     "execution_count": 2,
     "metadata": {},
     "output_type": "execute_result"
    }
   ],
   "source": [
    "sum(b73_rc)"
   ]
  },
  {
   "cell_type": "code",
   "execution_count": 3,
   "metadata": {},
   "outputs": [],
   "source": [
    "nc358_size = 2272400000"
   ]
  },
  {
   "cell_type": "markdown",
   "metadata": {},
   "source": [
    "# Calculate the size of this data in terms of the Maize genome"
   ]
  },
  {
   "cell_type": "code",
   "execution_count": 4,
   "metadata": {},
   "outputs": [
    {
     "name": "stdout",
     "output_type": "stream",
     "text": [
      "68.8271371251\n"
     ]
    }
   ],
   "source": [
    "coverage = sum(b73_rc) / float(nc358_size)\n",
    "print coverage"
   ]
  },
  {
   "cell_type": "code",
   "execution_count": 5,
   "metadata": {},
   "outputs": [],
   "source": [
    "target_coverage = 50.0"
   ]
  },
  {
   "cell_type": "code",
   "execution_count": 6,
   "metadata": {},
   "outputs": [
    {
     "name": "stdout",
     "output_type": "stream",
     "text": [
      "0.726457645756\n"
     ]
    }
   ],
   "source": [
    "downsample_ratio = target_coverage/ coverage\n",
    "print downsample_ratio"
   ]
  },
  {
   "cell_type": "markdown",
   "metadata": {},
   "source": [
    "# Now downsample the reads to have the target read length distribution"
   ]
  },
  {
   "cell_type": "code",
   "execution_count": 7,
   "metadata": {},
   "outputs": [],
   "source": [
    "import numpy as np"
   ]
  },
  {
   "cell_type": "code",
   "execution_count": 8,
   "metadata": {},
   "outputs": [],
   "source": [
    "maize_target_distribution = [r for r in b73_rc if np.random.uniform() < downsample_ratio]"
   ]
  },
  {
   "cell_type": "code",
   "execution_count": 9,
   "metadata": {},
   "outputs": [
    {
     "data": {
      "text/plain": [
       "49.99159070806196"
      ]
     },
     "execution_count": 9,
     "metadata": {},
     "output_type": "execute_result"
    }
   ],
   "source": [
    "sum(maize_target_distribution) / float(nc358_size)"
   ]
  },
  {
   "cell_type": "markdown",
   "metadata": {},
   "source": [
    "# Load the maize distribution"
   ]
  },
  {
   "cell_type": "code",
   "execution_count": 10,
   "metadata": {},
   "outputs": [],
   "source": [
    "maize_starting_distribution = [int(l.strip()) for l in open('maize_raw_rc.csv')]"
   ]
  },
  {
   "cell_type": "code",
   "execution_count": 11,
   "metadata": {},
   "outputs": [
    {
     "name": "stdout",
     "output_type": "stream",
     "text": [
      "75.2881381438\n"
     ]
    }
   ],
   "source": [
    "maize_starting_coverage = sum(maize_starting_distribution) / float(nc358_size)\n",
    "print maize_starting_coverage"
   ]
  },
  {
   "cell_type": "code",
   "execution_count": 12,
   "metadata": {},
   "outputs": [
    {
     "name": "stdout",
     "output_type": "stream",
     "text": [
      "13793126\n",
      "9776359\n"
     ]
    }
   ],
   "source": [
    "print len(maize_starting_distribution)\n",
    "print len(maize_target_distribution)"
   ]
  },
  {
   "cell_type": "markdown",
   "metadata": {},
   "source": [
    "### Note that our target distribution has more reads than all of our starting data.  This means that we won't quite get the coverage we hoped for."
   ]
  },
  {
   "cell_type": "code",
   "execution_count": 13,
   "metadata": {},
   "outputs": [
    {
     "name": "stdout",
     "output_type": "stream",
     "text": [
      "49.9915907081\n"
     ]
    }
   ],
   "source": [
    "maize_target_distribution_modified = maize_target_distribution[:len(maize_starting_distribution)]\n",
    "print sum(maize_target_distribution_modified) / float(nc358_size)"
   ]
  },
  {
   "cell_type": "markdown",
   "metadata": {},
   "source": [
    "### That's pretty close though!"
   ]
  },
  {
   "cell_type": "markdown",
   "metadata": {},
   "source": [
    "# Let's make some helper functions"
   ]
  },
  {
   "cell_type": "code",
   "execution_count": 14,
   "metadata": {},
   "outputs": [],
   "source": [
    "from matplotlib import pyplot as plt"
   ]
  },
  {
   "cell_type": "code",
   "execution_count": 15,
   "metadata": {},
   "outputs": [],
   "source": [
    "%matplotlib inline"
   ]
  },
  {
   "cell_type": "code",
   "execution_count": 16,
   "metadata": {},
   "outputs": [],
   "source": [
    "def calc_pdf(data):\n",
    "    max_val = max(data)\n",
    "    total = sum(data)\n",
    "    prob = np.zeros(max_val+1)\n",
    "    \n",
    "    for d in data:\n",
    "        prob[d] += 1\n",
    "    \n",
    "    prob = [p/float(total) for p in prob]\n",
    "    \n",
    "    return prob"
   ]
  },
  {
   "cell_type": "code",
   "execution_count": 17,
   "metadata": {},
   "outputs": [],
   "source": [
    "def calc_cumsum(data):\n",
    "    total = sum(data)\n",
    "    data = sorted(data)\n",
    "    data = np.cumsum(data)\n",
    "    data = [d/float(total) for d in data]\n",
    "    \n",
    "    return data"
   ]
  },
  {
   "cell_type": "code",
   "execution_count": 18,
   "metadata": {},
   "outputs": [],
   "source": [
    "def calc_n50(data):\n",
    "    data = sorted(data)\n",
    "    total = sum(data)\n",
    "    norm_data = np.cumsum(data) / float(total)\n",
    "    idx = np.searchsorted(norm_data, 0.5)\n",
    "    \n",
    "    return data[idx]"
   ]
  },
  {
   "cell_type": "markdown",
   "metadata": {},
   "source": [
    "# And do a sanity check to ensure that the distributions are the same"
   ]
  },
  {
   "cell_type": "code",
   "execution_count": 19,
   "metadata": {},
   "outputs": [
    {
     "data": {
      "text/plain": [
       "[<matplotlib.lines.Line2D at 0x7fae4cdb4610>]"
      ]
     },
     "execution_count": 19,
     "metadata": {},
     "output_type": "execute_result"
    },
    {
     "data": {
      "image/png": "[encoded data removed]",
      "text/plain": [
       "<matplotlib.figure.Figure at 0x7fae4d0dce10>"
      ]
     },
     "metadata": {},
     "output_type": "display_data"
    }
   ],
   "source": [
    "plt.plot(calc_pdf(maize_starting_distribution),'b', label='Maize starting')\n",
    "plt.plot(calc_pdf(maize_target_distribution),'g', label='Maize target')\n",
    "plt.plot(calc_pdf(b73_rc),'k', label='b73')"
   ]
  },
  {
   "cell_type": "code",
   "execution_count": 20,
   "metadata": {},
   "outputs": [
    {
     "name": "stdout",
     "output_type": "stream",
     "text": [
      "13793126\n",
      "9776359\n"
     ]
    }
   ],
   "source": [
    "print len(maize_starting_distribution)\n",
    "print len(maize_target_distribution)"
   ]
  },
  {
   "cell_type": "code",
   "execution_count": 21,
   "metadata": {},
   "outputs": [
    {
     "data": {
      "text/plain": [
       "(array([  1.86703000e+05,   1.93994000e+05,   1.76104000e+05,\n",
       "          1.55990000e+05,   1.41046000e+05,   1.31273000e+05,\n",
       "          1.23935000e+05,   1.19852000e+05,   1.12799000e+05,\n",
       "          1.10058000e+05,   1.04361000e+05,   1.02539000e+05,\n",
       "          9.87570000e+04,   9.52430000e+04,   9.35250000e+04,\n",
       "          9.23370000e+04,   8.96730000e+04,   1.32738000e+05,\n",
       "          3.12863000e+05,   1.92296000e+05,   1.34548000e+05,\n",
       "          1.05099000e+05,   9.21850000e+04,   8.54550000e+04,\n",
       "          8.14780000e+04,   7.78460000e+04,   7.61210000e+04,\n",
       "          7.38920000e+04,   7.20400000e+04,   7.14680000e+04,\n",
       "          7.08600000e+04,   7.04950000e+04,   6.85150000e+04,\n",
       "          6.81230000e+04,   6.72290000e+04,   6.66520000e+04,\n",
       "          6.62640000e+04,   6.68020000e+04,   6.48890000e+04,\n",
       "          6.44550000e+04,   6.31090000e+04,   6.33830000e+04,\n",
       "          6.22090000e+04,   6.14630000e+04,   6.02760000e+04,\n",
       "          6.06110000e+04,   5.99700000e+04,   5.89640000e+04,\n",
       "          5.87410000e+04,   5.77840000e+04,   5.75840000e+04,\n",
       "          5.66890000e+04,   5.72880000e+04,   5.57940000e+04,\n",
       "          5.55980000e+04,   5.51500000e+04,   5.53940000e+04,\n",
       "          5.45630000e+04,   5.38250000e+04,   5.36360000e+04,\n",
       "          5.34080000e+04,   5.25070000e+04,   5.21400000e+04,\n",
       "          5.19550000e+04,   5.20100000e+04,   5.09990000e+04,\n",
       "          5.12540000e+04,   5.10030000e+04,   5.01490000e+04,\n",
       "          5.01090000e+04,   4.95550000e+04,   4.99970000e+04,\n",
       "          4.87850000e+04,   4.88730000e+04,   4.90990000e+04,\n",
       "          4.84740000e+04,   4.78820000e+04,   4.75330000e+04,\n",
       "          4.77300000e+04,   4.76040000e+04,   4.70370000e+04,\n",
       "          4.70130000e+04,   4.60760000e+04,   4.67670000e+04,\n",
       "          4.52440000e+04,   4.55920000e+04,   4.58910000e+04,\n",
       "          4.49250000e+04,   4.45930000e+04,   4.42650000e+04,\n",
       "          4.45960000e+04,   4.40250000e+04,   4.43290000e+04,\n",
       "          4.30340000e+04,   4.39020000e+04,   4.26750000e+04,\n",
       "          4.30070000e+04,   4.21720000e+04,   4.28050000e+04,\n",
       "          4.24280000e+04,   4.15220000e+04,   4.23520000e+04,\n",
       "          4.10400000e+04,   4.08870000e+04,   4.05390000e+04,\n",
       "          4.06740000e+04,   4.04320000e+04,   4.00520000e+04,\n",
       "          3.95470000e+04,   3.94220000e+04,   3.90200000e+04,\n",
       "          3.89630000e+04,   3.88730000e+04,   3.89700000e+04,\n",
       "          3.83560000e+04,   3.83220000e+04,   3.83790000e+04,\n",
       "          3.75390000e+04,   3.71960000e+04,   3.72780000e+04,\n",
       "          3.74300000e+04,   3.70220000e+04,   3.67790000e+04,\n",
       "          3.63990000e+04,   3.65420000e+04,   3.59980000e+04,\n",
       "          3.57650000e+04,   3.53490000e+04,   3.56780000e+04,\n",
       "          3.54210000e+04,   3.51390000e+04,   3.46000000e+04,\n",
       "          3.49590000e+04,   3.45600000e+04,   3.43420000e+04,\n",
       "          3.44510000e+04,   3.40360000e+04,   3.36430000e+04,\n",
       "          3.32650000e+04,   3.36030000e+04,   3.32720000e+04,\n",
       "          3.32320000e+04,   3.28910000e+04,   3.33790000e+04,\n",
       "          3.26310000e+04,   3.28170000e+04,   3.24750000e+04,\n",
       "          3.28740000e+04,   3.24100000e+04,   3.23110000e+04,\n",
       "          3.25080000e+04,   3.18690000e+04,   3.21790000e+04,\n",
       "          3.20580000e+04,   3.22650000e+04,   3.16370000e+04,\n",
       "          3.20740000e+04,   3.17530000e+04,   3.23150000e+04,\n",
       "          3.16370000e+04,   3.18560000e+04,   3.20620000e+04,\n",
       "          3.21640000e+04,   3.24020000e+04,   3.20050000e+04,\n",
       "          3.24920000e+04,   3.26830000e+04,   3.28860000e+04,\n",
       "          3.25410000e+04,   3.31680000e+04,   3.27010000e+04,\n",
       "          3.27300000e+04,   3.27760000e+04,   3.29300000e+04,\n",
       "          3.28590000e+04,   3.31140000e+04,   3.30340000e+04,\n",
       "          3.32990000e+04,   3.34110000e+04,   3.33790000e+04,\n",
       "          3.38580000e+04,   3.38640000e+04,   3.39130000e+04,\n",
       "          3.37870000e+04,   3.38960000e+04,   3.34940000e+04,\n",
       "          3.38030000e+04,   3.38150000e+04,   3.41230000e+04,\n",
       "          3.39450000e+04,   3.36510000e+04,   3.35010000e+04,\n",
       "          3.37260000e+04,   3.37640000e+04,   3.29430000e+04,\n",
       "          3.30590000e+04,   3.37660000e+04,   3.29560000e+04,\n",
       "          3.27280000e+04,   3.26410000e+04,   3.26930000e+04,\n",
       "          3.20520000e+04,   3.17540000e+04,   3.20700000e+04,\n",
       "          3.11680000e+04,   3.09730000e+04,   3.05990000e+04,\n",
       "          3.08840000e+04,   2.99600000e+04,   2.99250000e+04,\n",
       "          2.94810000e+04,   2.91240000e+04,   2.85810000e+04,\n",
       "          2.85950000e+04,   2.83650000e+04,   2.80060000e+04,\n",
       "          2.77010000e+04,   2.72220000e+04,   2.69830000e+04,\n",
       "          2.62430000e+04,   2.62590000e+04,   2.58270000e+04,\n",
       "          2.57330000e+04,   2.52190000e+04,   2.47920000e+04,\n",
       "          2.45620000e+04,   2.48640000e+04,   2.38610000e+04,\n",
       "          2.40670000e+04,   2.34420000e+04,   2.35620000e+04,\n",
       "          2.28020000e+04,   2.26170000e+04,   2.25500000e+04,\n",
       "          2.22910000e+04,   2.16710000e+04,   2.14090000e+04,\n",
       "          2.12290000e+04,   2.11310000e+04,   2.08700000e+04,\n",
       "          2.03020000e+04,   2.05340000e+04,   1.98840000e+04,\n",
       "          1.98140000e+04,   1.96390000e+04,   1.96130000e+04,\n",
       "          1.90550000e+04,   1.90150000e+04,   1.86550000e+04,\n",
       "          1.85780000e+04,   1.84250000e+04,   1.80690000e+04,\n",
       "          1.80960000e+04,   1.79410000e+04,   1.77340000e+04,\n",
       "          1.72040000e+04,   1.73490000e+04,   1.67380000e+04,\n",
       "          1.68670000e+04,   1.67290000e+04,   1.65190000e+04,\n",
       "          1.61370000e+04,   1.62780000e+04,   1.57580000e+04,\n",
       "          1.57230000e+04,   1.53910000e+04,   1.52140000e+04,\n",
       "          1.54460000e+04,   1.48120000e+04,   1.45960000e+04,\n",
       "          1.45010000e+04,   1.46570000e+04,   1.43940000e+04,\n",
       "          1.41450000e+04,   1.38490000e+04,   1.37440000e+04,\n",
       "          1.36920000e+04,   1.33510000e+04,   1.34610000e+04,\n",
       "          1.33300000e+04,   1.32190000e+04,   1.30100000e+04,\n",
       "          1.29310000e+04,   1.27150000e+04,   1.24900000e+04,\n",
       "          1.24860000e+04,   1.24040000e+04,   1.22880000e+04,\n",
       "          1.21520000e+04,   1.17590000e+04,   1.18740000e+04,\n",
       "          1.16000000e+04,   1.16270000e+04,   1.14180000e+04,\n",
       "          1.14030000e+04,   1.11660000e+04,   1.11280000e+04,\n",
       "          1.09750000e+04,   1.08880000e+04,   1.06410000e+04,\n",
       "          1.06300000e+04,   1.06420000e+04,   1.03930000e+04,\n",
       "          1.03940000e+04,   9.97500000e+03,   1.02790000e+04,\n",
       "          9.75700000e+03,   9.78000000e+03,   9.77100000e+03,\n",
       "          9.76500000e+03,   9.63400000e+03,   9.58800000e+03,\n",
       "          9.33900000e+03,   9.42800000e+03,   9.02200000e+03,\n",
       "          8.94100000e+03,   8.86800000e+03,   8.78200000e+03,\n",
       "          8.89300000e+03,   8.61500000e+03,   8.65100000e+03,\n",
       "          8.66500000e+03,   8.48900000e+03,   8.38500000e+03,\n",
       "          8.40900000e+03,   8.02000000e+03,   8.15200000e+03,\n",
       "          7.92500000e+03,   7.94300000e+03,   7.69400000e+03,\n",
       "          7.68200000e+03,   7.68300000e+03,   7.76500000e+03,\n",
       "          7.45700000e+03,   7.61100000e+03,   7.39900000e+03,\n",
       "          7.16800000e+03,   7.36400000e+03,   7.14700000e+03,\n",
       "          7.07300000e+03,   6.92700000e+03,   6.94600000e+03,\n",
       "          6.98000000e+03,   6.89500000e+03,   6.79000000e+03,\n",
       "          6.55200000e+03,   6.65600000e+03,   6.70000000e+03,\n",
       "          6.47200000e+03,   6.28600000e+03,   6.50700000e+03,\n",
       "          6.24400000e+03,   6.22800000e+03,   6.24200000e+03,\n",
       "          6.11800000e+03,   6.02000000e+03,   5.97100000e+03,\n",
       "          5.92400000e+03,   5.88300000e+03,   5.74400000e+03,\n",
       "          5.66000000e+03,   5.61100000e+03,   5.64000000e+03,\n",
       "          5.44900000e+03,   5.55400000e+03,   5.39600000e+03,\n",
       "          5.34100000e+03,   5.17400000e+03,   5.34500000e+03,\n",
       "          5.20400000e+03,   5.17200000e+03,   5.09300000e+03,\n",
       "          5.10400000e+03,   5.10600000e+03,   5.03400000e+03,\n",
       "          4.85000000e+03,   4.84700000e+03,   4.96400000e+03,\n",
       "          4.79000000e+03,   4.60400000e+03,   4.60400000e+03,\n",
       "          4.66100000e+03,   4.56800000e+03,   4.58500000e+03,\n",
       "          4.55600000e+03,   4.55000000e+03,   4.38200000e+03,\n",
       "          4.32300000e+03,   4.37700000e+03,   4.35800000e+03,\n",
       "          4.27700000e+03,   4.24800000e+03,   4.24200000e+03,\n",
       "          4.20300000e+03,   3.99100000e+03,   4.04800000e+03,\n",
       "          4.05200000e+03,   3.90800000e+03,   4.04800000e+03,\n",
       "          3.84000000e+03,   3.79100000e+03,   3.80200000e+03,\n",
       "          3.66800000e+03,   3.72300000e+03,   3.60300000e+03,\n",
       "          3.65200000e+03,   3.57900000e+03,   3.63100000e+03,\n",
       "          3.51400000e+03,   3.42400000e+03,   3.48700000e+03,\n",
       "          3.41900000e+03,   3.44000000e+03,   3.40300000e+03,\n",
       "          3.36300000e+03,   3.26100000e+03,   3.32000000e+03,\n",
       "          3.30900000e+03,   3.23800000e+03,   3.20200000e+03,\n",
       "          3.14500000e+03,   3.13000000e+03,   2.98900000e+03,\n",
       "          2.99400000e+03,   3.06600000e+03,   2.99700000e+03,\n",
       "          2.93600000e+03,   2.86300000e+03,   2.91800000e+03,\n",
       "          2.86500000e+03,   2.74100000e+03,   2.79900000e+03,\n",
       "          2.71900000e+03,   2.76800000e+03,   2.67900000e+03,\n",
       "          2.66500000e+03,   2.60300000e+03,   2.65400000e+03,\n",
       "          2.59500000e+03,   2.59500000e+03,   2.48400000e+03,\n",
       "          2.57800000e+03,   2.43500000e+03,   2.43500000e+03,\n",
       "          2.45800000e+03,   2.43700000e+03,   2.42600000e+03,\n",
       "          2.31600000e+03,   2.35200000e+03,   2.34800000e+03,\n",
       "          2.31800000e+03,   2.23000000e+03,   2.27300000e+03,\n",
       "          2.17800000e+03,   2.21400000e+03,   2.22100000e+03,\n",
       "          2.27500000e+03,   2.13600000e+03,   2.09900000e+03,\n",
       "          2.01700000e+03,   2.12300000e+03,   2.04500000e+03,\n",
       "          2.00200000e+03,   1.98700000e+03,   1.98900000e+03,\n",
       "          1.97000000e+03,   1.85000000e+03,   1.90200000e+03,\n",
       "          1.99000000e+03,   1.79400000e+03,   1.78700000e+03,\n",
       "          1.75300000e+03,   1.81500000e+03,   1.79800000e+03,\n",
       "          1.73700000e+03,   1.75500000e+03,   1.69000000e+03,\n",
       "          1.68800000e+03,   1.67200000e+03,   1.66300000e+03,\n",
       "          1.62700000e+03,   1.68100000e+03,   1.61600000e+03,\n",
       "          1.61300000e+03,   1.63800000e+03,   1.57000000e+03,\n",
       "          1.47100000e+03,   1.51200000e+03,   1.55100000e+03,\n",
       "          1.48100000e+03,   1.51600000e+03,   1.50000000e+03,\n",
       "          1.43600000e+03,   1.46600000e+03,   1.49000000e+03,\n",
       "          1.36400000e+03,   1.42900000e+03,   1.33900000e+03,\n",
       "          1.35400000e+03,   1.32900000e+03,   1.32400000e+03,\n",
       "          1.29000000e+03,   1.27200000e+03,   1.32100000e+03,\n",
       "          1.31600000e+03,   1.22700000e+03,   1.25700000e+03,\n",
       "          1.17300000e+03,   1.18500000e+03,   1.16700000e+03,\n",
       "          1.17900000e+03,   1.21500000e+03,   1.16200000e+03,\n",
       "          1.13800000e+03,   1.11900000e+03,   1.11200000e+03,\n",
       "          1.04200000e+03,   1.07800000e+03,   1.09200000e+03,\n",
       "          1.03300000e+03,   1.01900000e+03,   9.70000000e+02,\n",
       "          9.66000000e+02,   1.02500000e+03,   9.54000000e+02,\n",
       "          1.03200000e+03,   9.77000000e+02,   9.50000000e+02,\n",
       "          9.27000000e+02,   9.38000000e+02,   9.16000000e+02,\n",
       "          8.81000000e+02,   8.26000000e+02,   8.23000000e+02,\n",
       "          8.64000000e+02,   8.64000000e+02,   8.47000000e+02,\n",
       "          8.27000000e+02,   7.99000000e+02,   8.39000000e+02,\n",
       "          7.78000000e+02,   7.58000000e+02,   7.33000000e+02,\n",
       "          7.71000000e+02,   7.50000000e+02,   7.15000000e+02,\n",
       "          7.14000000e+02,   7.26000000e+02,   6.68000000e+02,\n",
       "          6.69000000e+02,   7.13000000e+02,   6.69000000e+02,\n",
       "          6.33000000e+02,   6.18000000e+02,   6.24000000e+02,\n",
       "          7.04000000e+02,   6.28000000e+02,   6.35000000e+02,\n",
       "          6.36000000e+02,   6.22000000e+02,   6.08000000e+02,\n",
       "          6.02000000e+02,   5.69000000e+02,   5.39000000e+02,\n",
       "          5.32000000e+02,   5.69000000e+02,   5.57000000e+02,\n",
       "          5.29000000e+02,   5.37000000e+02,   5.44000000e+02,\n",
       "          5.20000000e+02,   5.09000000e+02,   5.14000000e+02,\n",
       "          5.06000000e+02,   4.72000000e+02,   4.40000000e+02,\n",
       "          4.88000000e+02,   4.64000000e+02,   4.75000000e+02,\n",
       "          4.50000000e+02,   4.34000000e+02,   4.97000000e+02,\n",
       "          4.67000000e+02,   4.26000000e+02,   3.96000000e+02,\n",
       "          4.25000000e+02,   4.29000000e+02,   3.83000000e+02,\n",
       "          4.25000000e+02,   4.05000000e+02,   3.76000000e+02,\n",
       "          3.89000000e+02,   3.69000000e+02,   3.71000000e+02,\n",
       "          3.45000000e+02,   3.44000000e+02,   3.50000000e+02,\n",
       "          3.65000000e+02,   3.20000000e+02,   3.20000000e+02,\n",
       "          3.31000000e+02,   3.13000000e+02,   2.98000000e+02,\n",
       "          3.03000000e+02,   3.18000000e+02,   2.86000000e+02,\n",
       "          2.93000000e+02,   3.06000000e+02,   2.68000000e+02,\n",
       "          2.73000000e+02,   2.76000000e+02,   2.87000000e+02,\n",
       "          2.57000000e+02,   2.57000000e+02,   2.18000000e+02,\n",
       "          2.54000000e+02,   2.60000000e+02,   2.33000000e+02,\n",
       "          2.58000000e+02,   2.34000000e+02,   2.19000000e+02,\n",
       "          2.24000000e+02,   1.98000000e+02,   2.16000000e+02,\n",
       "          1.91000000e+02,   2.08000000e+02,   2.02000000e+02,\n",
       "          1.87000000e+02,   1.95000000e+02,   1.83000000e+02,\n",
       "          2.07000000e+02,   1.76000000e+02,   1.79000000e+02,\n",
       "          1.52000000e+02,   1.72000000e+02,   1.61000000e+02,\n",
       "          1.64000000e+02,   1.68000000e+02,   1.44000000e+02,\n",
       "          1.85000000e+02,   1.39000000e+02,   1.23000000e+02,\n",
       "          1.33000000e+02,   1.42000000e+02,   1.53000000e+02,\n",
       "          1.13000000e+02,   1.14000000e+02,   1.42000000e+02,\n",
       "          1.19000000e+02,   1.31000000e+02,   1.37000000e+02,\n",
       "          1.11000000e+02,   1.26000000e+02,   1.20000000e+02,\n",
       "          1.14000000e+02,   1.11000000e+02,   9.90000000e+01,\n",
       "          9.40000000e+01,   1.12000000e+02,   1.05000000e+02,\n",
       "          9.90000000e+01,   8.90000000e+01,   8.80000000e+01,\n",
       "          9.80000000e+01,   9.00000000e+01,   8.50000000e+01,\n",
       "          8.10000000e+01,   6.90000000e+01,   7.70000000e+01,\n",
       "          7.50000000e+01,   7.10000000e+01,   7.50000000e+01,\n",
       "          6.30000000e+01,   6.90000000e+01,   5.90000000e+01,\n",
       "          6.30000000e+01,   6.10000000e+01,   6.50000000e+01,\n",
       "          4.80000000e+01,   6.30000000e+01,   7.50000000e+01,\n",
       "          6.40000000e+01,   6.50000000e+01,   5.70000000e+01,\n",
       "          5.40000000e+01,   4.80000000e+01,   4.40000000e+01,\n",
       "          4.70000000e+01,   4.00000000e+01,   4.20000000e+01,\n",
       "          4.40000000e+01,   4.40000000e+01,   4.20000000e+01,\n",
       "          3.80000000e+01,   4.50000000e+01,   2.60000000e+01,\n",
       "          3.50000000e+01,   4.40000000e+01,   3.70000000e+01,\n",
       "          3.40000000e+01,   2.30000000e+01,   2.60000000e+01,\n",
       "          2.70000000e+01,   2.90000000e+01,   4.20000000e+01,\n",
       "          2.90000000e+01,   1.90000000e+01,   2.90000000e+01,\n",
       "          2.10000000e+01,   2.10000000e+01,   1.80000000e+01,\n",
       "          2.60000000e+01,   1.90000000e+01,   2.70000000e+01,\n",
       "          1.70000000e+01,   1.60000000e+01,   1.50000000e+01,\n",
       "          1.80000000e+01,   2.10000000e+01,   1.90000000e+01,\n",
       "          1.70000000e+01,   1.70000000e+01,   1.40000000e+01,\n",
       "          1.60000000e+01,   1.40000000e+01,   1.40000000e+01,\n",
       "          1.50000000e+01,   2.10000000e+01,   2.30000000e+01,\n",
       "          1.00000000e+01,   9.00000000e+00,   1.00000000e+01,\n",
       "          1.40000000e+01,   9.00000000e+00,   1.80000000e+01,\n",
       "          6.00000000e+00,   9.00000000e+00,   1.60000000e+01,\n",
       "          8.00000000e+00,   1.50000000e+01,   1.20000000e+01,\n",
       "          1.60000000e+01,   1.10000000e+01,   6.00000000e+00,\n",
       "          1.30000000e+01,   8.00000000e+00,   7.00000000e+00,\n",
       "          7.00000000e+00,   8.00000000e+00,   8.00000000e+00,\n",
       "          8.00000000e+00,   8.00000000e+00,   5.00000000e+00,\n",
       "          9.00000000e+00,   7.00000000e+00,   5.00000000e+00,\n",
       "          8.00000000e+00,   5.00000000e+00,   6.00000000e+00,\n",
       "          6.00000000e+00,   3.00000000e+00,   4.00000000e+00,\n",
       "          8.00000000e+00,   4.00000000e+00,   7.00000000e+00,\n",
       "          5.00000000e+00,   5.00000000e+00,   2.00000000e+00,\n",
       "          5.00000000e+00,   5.00000000e+00,   3.00000000e+00,\n",
       "          7.00000000e+00,   5.00000000e+00,   2.00000000e+00,\n",
       "          2.00000000e+00,   3.00000000e+00,   6.00000000e+00,\n",
       "          3.00000000e+00,   4.00000000e+00,   2.00000000e+00,\n",
       "          3.00000000e+00,   3.00000000e+00,   4.00000000e+00,\n",
       "          2.00000000e+00,   2.00000000e+00,   2.00000000e+00,\n",
       "          0.00000000e+00,   5.00000000e+00,   0.00000000e+00,\n",
       "          4.00000000e+00,   3.00000000e+00,   2.00000000e+00,\n",
       "          1.00000000e+00,   0.00000000e+00,   0.00000000e+00,\n",
       "          2.00000000e+00,   1.00000000e+00,   3.00000000e+00,\n",
       "          1.00000000e+00,   2.00000000e+00,   2.00000000e+00,\n",
       "          1.00000000e+00,   2.00000000e+00,   2.00000000e+00,\n",
       "          0.00000000e+00,   2.00000000e+00,   0.00000000e+00,\n",
       "          3.00000000e+00,   1.00000000e+00,   3.00000000e+00,\n",
       "          1.00000000e+00,   1.00000000e+00,   1.00000000e+00,\n",
       "          2.00000000e+00,   2.00000000e+00,   0.00000000e+00,\n",
       "          0.00000000e+00,   3.00000000e+00,   0.00000000e+00,\n",
       "          0.00000000e+00,   1.00000000e+00,   2.00000000e+00,\n",
       "          1.00000000e+00,   0.00000000e+00,   1.00000000e+00,\n",
       "          1.00000000e+00,   1.00000000e+00,   1.00000000e+00,\n",
       "          1.00000000e+00,   0.00000000e+00,   0.00000000e+00,\n",
       "          0.00000000e+00,   1.00000000e+00,   0.00000000e+00,\n",
       "          0.00000000e+00,   0.00000000e+00,   1.00000000e+00,\n",
       "          0.00000000e+00,   1.00000000e+00,   1.00000000e+00,\n",
       "          1.00000000e+00,   0.00000000e+00,   0.00000000e+00,\n",
       "          1.00000000e+00,   0.00000000e+00,   0.00000000e+00,\n",
       "          1.00000000e+00,   0.00000000e+00,   0.00000000e+00,\n",
       "          0.00000000e+00,   0.00000000e+00,   0.00000000e+00,\n",
       "          0.00000000e+00,   1.00000000e+00,   0.00000000e+00,\n",
       "          0.00000000e+00,   0.00000000e+00,   0.00000000e+00,\n",
       "          1.00000000e+00,   0.00000000e+00,   0.00000000e+00,\n",
       "          0.00000000e+00,   0.00000000e+00,   0.00000000e+00,\n",
       "          0.00000000e+00,   0.00000000e+00,   0.00000000e+00,\n",
       "          1.00000000e+00,   0.00000000e+00,   0.00000000e+00,\n",
       "          0.00000000e+00,   0.00000000e+00,   0.00000000e+00,\n",
       "          0.00000000e+00,   0.00000000e+00,   0.00000000e+00,\n",
       "          0.00000000e+00,   0.00000000e+00,   0.00000000e+00,\n",
       "          0.00000000e+00,   0.00000000e+00,   0.00000000e+00,\n",
       "          0.00000000e+00,   0.00000000e+00,   0.00000000e+00,\n",
       "          0.00000000e+00,   0.00000000e+00,   0.00000000e+00,\n",
       "          0.00000000e+00,   0.00000000e+00,   2.00000000e+00,\n",
       "          0.00000000e+00,   0.00000000e+00,   0.00000000e+00,\n",
       "          0.00000000e+00,   0.00000000e+00,   0.00000000e+00,\n",
       "          0.00000000e+00,   0.00000000e+00,   0.00000000e+00,\n",
       "          0.00000000e+00,   0.00000000e+00,   0.00000000e+00,\n",
       "          0.00000000e+00,   0.00000000e+00,   1.00000000e+00,\n",
       "          0.00000000e+00,   0.00000000e+00,   0.00000000e+00,\n",
       "          0.00000000e+00,   0.00000000e+00,   0.00000000e+00,\n",
       "          0.00000000e+00,   0.00000000e+00,   0.00000000e+00,\n",
       "          0.00000000e+00,   0.00000000e+00,   0.00000000e+00,\n",
       "          0.00000000e+00,   1.00000000e+00,   0.00000000e+00,\n",
       "          0.00000000e+00,   0.00000000e+00,   0.00000000e+00,\n",
       "          0.00000000e+00,   0.00000000e+00,   0.00000000e+00,\n",
       "          0.00000000e+00,   0.00000000e+00,   0.00000000e+00,\n",
       "          0.00000000e+00,   0.00000000e+00,   0.00000000e+00,\n",
       "          0.00000000e+00,   0.00000000e+00,   0.00000000e+00,\n",
       "          0.00000000e+00,   0.00000000e+00,   0.00000000e+00,\n",
       "          0.00000000e+00,   0.00000000e+00,   0.00000000e+00,\n",
       "          0.00000000e+00,   0.00000000e+00,   0.00000000e+00,\n",
       "          0.00000000e+00,   0.00000000e+00,   0.00000000e+00,\n",
       "          0.00000000e+00,   0.00000000e+00,   0.00000000e+00,\n",
       "          0.00000000e+00,   0.00000000e+00,   0.00000000e+00,\n",
       "          0.00000000e+00,   0.00000000e+00,   0.00000000e+00,\n",
       "          0.00000000e+00,   0.00000000e+00,   0.00000000e+00,\n",
       "          0.00000000e+00,   0.00000000e+00,   0.00000000e+00,\n",
       "          0.00000000e+00,   0.00000000e+00,   0.00000000e+00,\n",
       "          0.00000000e+00,   0.00000000e+00,   0.00000000e+00,\n",
       "          0.00000000e+00,   0.00000000e+00,   0.00000000e+00,\n",
       "          0.00000000e+00,   0.00000000e+00,   0.00000000e+00,\n",
       "          0.00000000e+00,   0.00000000e+00,   0.00000000e+00,\n",
       "          0.00000000e+00,   0.00000000e+00,   0.00000000e+00,\n",
       "          0.00000000e+00,   0.00000000e+00,   0.00000000e+00,\n",
       "          0.00000000e+00,   0.00000000e+00,   0.00000000e+00,\n",
       "          0.00000000e+00,   0.00000000e+00,   0.00000000e+00,\n",
       "          0.00000000e+00,   0.00000000e+00,   0.00000000e+00,\n",
       "          0.00000000e+00,   0.00000000e+00,   0.00000000e+00,\n",
       "          0.00000000e+00,   0.00000000e+00,   0.00000000e+00,\n",
       "          1.00000000e+00]),\n",
       " array([  5.00000000e+01,   1.53265000e+02,   2.56530000e+02, ...,\n",
       "          1.03108470e+05,   1.03211735e+05,   1.03315000e+05]),\n",
       " <a list of 1000 Patch objects>)"
      ]
     },
     "execution_count": 21,
     "metadata": {},
     "output_type": "execute_result"
    },
    {
     "data": {
      "image/png": "[encoded data removed]",
      "text/plain": [
       "<matplotlib.figure.Figure at 0x7fae72fc3810>"
      ]
     },
     "metadata": {},
     "output_type": "display_data"
    }
   ],
   "source": [
    "plt.hist(maize_starting_distribution, label='Maize starting',bins=1000)"
   ]
  },
  {
   "cell_type": "markdown",
   "metadata": {},
   "source": [
    "## Interesting, it looks like we have fewer reads in all of the maize data than our downsampled target distribution\n",
    "Let's see what the coverage is if we were to use the same number of reads"
   ]
  },
  {
   "cell_type": "code",
   "execution_count": 22,
   "metadata": {},
   "outputs": [
    {
     "name": "stdout",
     "output_type": "stream",
     "text": [
      "49.9915907081\n"
     ]
    }
   ],
   "source": [
    "print sum(maize_target_distribution[:len(maize_starting_distribution)]) / float(nc358_size)"
   ]
  },
  {
   "cell_type": "markdown",
   "metadata": {},
   "source": [
    "## O.K., I think this probably will work\n",
    "We'll plan on actually trimming the reads that we have rather than just down-sample."
   ]
  },
  {
   "cell_type": "code",
   "execution_count": 23,
   "metadata": {},
   "outputs": [],
   "source": [
    "maize_starting_sorted_with_index = sorted(zip(maize_starting_distribution, xrange(len(maize_starting_distribution))), key=lambda x: x[0], reverse=True)\n",
    "maize_target_distribution_sorted = sorted(maize_target_distribution[:len(maize_starting_distribution)], reverse=True)"
   ]
  },
  {
   "cell_type": "code",
   "execution_count": 24,
   "metadata": {},
   "outputs": [],
   "source": [
    "from itertools import izip"
   ]
  },
  {
   "cell_type": "code",
   "execution_count": 25,
   "metadata": {},
   "outputs": [],
   "source": [
    "maize_new_distribution = []\n",
    "missing = 0\n",
    "for maize, target in izip(maize_starting_sorted_with_index, maize_target_distribution_sorted):\n",
    "    if maize[0] > target:\n",
    "        diff = min(missing, maize[0] - target)\n",
    "        missing -= diff\n",
    "        maize_new_distribution.append((target + diff, maize[1]))\n",
    "    else:\n",
    "        maize_new_distribution.append(maize)\n",
    "        #missing += target - maize[0]\n",
    "        missing = 0"
   ]
  },
  {
   "cell_type": "code",
   "execution_count": 26,
   "metadata": {},
   "outputs": [
    {
     "name": "stdout",
     "output_type": "stream",
     "text": [
      "49.9915907081\n"
     ]
    }
   ],
   "source": [
    "new_maize_dist = [r[0] for r in maize_new_distribution]\n",
    "print sum(new_maize_dist) / float(nc358_size)"
   ]
  },
  {
   "cell_type": "code",
   "execution_count": 30,
   "metadata": {},
   "outputs": [
    {
     "data": {
      "text/plain": [
       "[<matplotlib.lines.Line2D at 0x7fadcb466e10>]"
      ]
     },
     "execution_count": 30,
     "metadata": {},
     "output_type": "execute_result"
    },
    {
     "data": {
      "image/png": "[encoded data removed]",
      "text/plain": [
       "<matplotlib.figure.Figure at 0x7fae4cd81850>"
      ]
     },
     "metadata": {},
     "output_type": "display_data"
    }
   ],
   "source": [
    "plt.plot(calc_pdf(new_maize_dist),'r')\n",
    "plt.plot(calc_pdf(maize_starting_distribution),'k')\n",
    "plt.plot(calc_pdf(maize_target_distribution_sorted),'g')\n"
   ]
  },
  {
   "cell_type": "code",
   "execution_count": 31,
   "metadata": {},
   "outputs": [
    {
     "data": {
      "text/plain": [
       "[<matplotlib.lines.Line2D at 0x7fadcb388050>]"
      ]
     },
     "execution_count": 31,
     "metadata": {},
     "output_type": "execute_result"
    },
    {
     "data": {
      "image/png": "[encoded data removed]",
      "text/plain": [
       "<matplotlib.figure.Figure at 0x7fae4cb939d0>"
      ]
     },
     "metadata": {},
     "output_type": "display_data"
    }
   ],
   "source": [
    "plt.plot(calc_pdf(new_maize_dist)[3000:15000],'r')\n",
    "plt.plot(calc_pdf(maize_target_distribution_sorted)[3000:15000],'g')\n",
    "plt.plot(calc_pdf(maize_starting_distribution)[3000:15000],'k')"
   ]
  },
  {
   "cell_type": "code",
   "execution_count": 32,
   "metadata": {},
   "outputs": [
    {
     "name": "stdout",
     "output_type": "stream",
     "text": [
      "16764\n",
      "16764\n",
      "21166\n"
     ]
    }
   ],
   "source": [
    "print calc_n50(new_maize_dist)\n",
    "print calc_n50(maize_target_distribution_sorted)\n",
    "print calc_n50(maize_starting_distribution)"
   ]
  },
  {
   "cell_type": "markdown",
   "metadata": {},
   "source": [
    "### Note the weird discontinuity in the dist chart above at a read length of 5810.  Below you can see that at this read length, we have an inflection point in the # of reads, so that there are much fewer reads for a given length."
   ]
  },
  {
   "cell_type": "code",
   "execution_count": 33,
   "metadata": {},
   "outputs": [
    {
     "data": {
      "text/plain": [
       "[<matplotlib.lines.Line2D at 0x7fadcb5fc910>]"
      ]
     },
     "execution_count": 33,
     "metadata": {},
     "output_type": "execute_result"
    },
    {
     "data": {
      "image/png": "[encoded data removed]",
      "text/plain": [
       "<matplotlib.figure.Figure at 0x7fae4c1b1d50>"
      ]
     },
     "metadata": {},
     "output_type": "display_data"
    }
   ],
   "source": [
    "plt.plot(new_maize_dist[-5250000:-5230000])"
   ]
  },
  {
   "cell_type": "markdown",
   "metadata": {},
   "source": [
    "## O.K., so we can almost get the same distribution.  At the low read lengths, it doesn't match great, but at the longer reads it's looking good."
   ]
  },
  {
   "cell_type": "code",
   "execution_count": 34,
   "metadata": {},
   "outputs": [
    {
     "data": {
      "text/plain": [
       "[<matplotlib.lines.Line2D at 0x7fadae16e210>]"
      ]
     },
     "execution_count": 34,
     "metadata": {},
     "output_type": "execute_result"
    },
    {
     "data": {
      "image/png": "[encoded data removed]",
      "text/plain": [
       "<matplotlib.figure.Figure at 0x7fadcb3f1690>"
      ]
     },
     "metadata": {},
     "output_type": "display_data"
    }
   ],
   "source": [
    "plt.plot(calc_cumsum(new_maize_dist))\n",
    "plt.plot(calc_cumsum(maize_target_distribution_sorted))\n",
    "plt.plot(calc_cumsum(maize_starting_distribution))"
   ]
  },
  {
   "cell_type": "markdown",
   "metadata": {},
   "source": [
    "## We matched the distributions pretty well...\n",
    "Now let's sort the dist back in the proper order"
   ]
  },
  {
   "cell_type": "code",
   "execution_count": 39,
   "metadata": {},
   "outputs": [],
   "source": [
    "maize_new_distribution_proper_order = sorted(maize_new_distribution, key=lambda x: x[1])"
   ]
  },
  {
   "cell_type": "code",
   "execution_count": 50,
   "metadata": {},
   "outputs": [],
   "source": [
    "maize_new_distribution_proper_order_no_indices = [(r[0],r[1]) for r in maize_new_distribution_proper_order]"
   ]
  },
  {
   "cell_type": "code",
   "execution_count": 51,
   "metadata": {},
   "outputs": [
    {
     "data": {
      "text/plain": [
       "[(9254, 0), (10801, 1), (25780, 2), (155, 4), (15522, 5)]"
      ]
     },
     "execution_count": 51,
     "metadata": {},
     "output_type": "execute_result"
    }
   ],
   "source": [
    "maize_new_distribution_proper_order[:5]"
   ]
  },
  {
   "cell_type": "code",
   "execution_count": 52,
   "metadata": {},
   "outputs": [],
   "source": [
    "with open('desired_read_lengths.csv', 'w') as fh:\n",
    "    for l in maize_new_distribution_proper_order_no_indices:\n",
    "        fh.write('{0}\\n'.format(l))"
   ]
  },
  {
   "cell_type": "code",
   "execution_count": 53,
   "metadata": {},
   "outputs": [
    {
     "data": {
      "text/plain": [
       "[(9254, 0),\n",
       " (10801, 1),\n",
       " (25780, 2),\n",
       " (155, 4),\n",
       " (15522, 5),\n",
       " (4281, 6),\n",
       " (22265, 7),\n",
       " (22766, 8),\n",
       " (18912, 9),\n",
       " (11491, 11)]"
      ]
     },
     "execution_count": 53,
     "metadata": {},
     "output_type": "execute_result"
    }
   ],
   "source": [
    "maize_new_distribution_proper_order[0:10]"
   ]
  },
  {
   "cell_type": "code",
   "execution_count": null,
   "metadata": {},
   "outputs": [],
   "source": []
  },
  {
   "cell_type": "code",
   "execution_count": null,
   "metadata": {},
   "outputs": [],
   "source": []
  }
 ],
 "metadata": {
  "kernelspec": {
   "display_name": "Python 2",
   "language": "python",
   "name": "python2"
  },
  "language_info": {
   "codemirror_mode": {
    "name": "ipython",
    "version": 2
   },
   "file_extension": ".py",
   "mimetype": "text/x-python",
   "name": "python",
   "nbconvert_exporter": "python",
   "pygments_lexer": "ipython2",
   "version": "2.7.6"
  }
 },
 "nbformat": 4,
 "nbformat_minor": 2
}
